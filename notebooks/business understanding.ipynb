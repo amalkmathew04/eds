{
 "cells": [
  {
   "cell_type": "code",
   "execution_count": 2,
   "id": "1232049d-e019-4946-85a3-56a4d8c35b72",
   "metadata": {},
   "outputs": [
    {
     "name": "stdout",
     "output_type": "stream",
     "text": [
      " Volume in drive C is OS\n",
      " Volume Serial Number is F490-A9A3\n",
      "\n",
      " Directory of C:\\Users\\amalk\\Desktop\\data enterpice\\covid-19 data enterprise\\notebooks\n",
      "\n",
      "20-06-2022  18:43    <DIR>          .\n",
      "20-06-2022  18:33    <DIR>          ..\n",
      "20-06-2022  18:29                 0 .gitkeep\n",
      "20-06-2022  18:43    <DIR>          .ipynb_checkpoints\n",
      "20-06-2022  18:43                72 Untitled.ipynb\n",
      "               2 File(s)             72 bytes\n",
      "               3 Dir(s)  308,571,586,560 bytes free\n"
     ]
    }
   ],
   "source": [
    "!dir"
   ]
  },
  {
   "cell_type": "markdown",
   "id": "10480343-8480-45fa-baa2-2f71550383d9",
   "metadata": {},
   "source": [
    "![CRISP_DM](../reports/figures/CRISP_DM.png)"
   ]
  },
  {
   "cell_type": "markdown",
   "id": "adde5fa5-a552-4765-81a4-565b514ac17b",
   "metadata": {},
   "source": [
    "# BUSINESS UNDERSTANDING"
   ]
  },
  {
   "cell_type": "markdown",
   "id": "862c8016-1555-449d-8adf-aad99ab1b808",
   "metadata": {},
   "source": [
    "I would like to track corona virous spred across countries with personal local information.\n",
    "The general information is not so relevant for me . i would like to have a deep dive in the local develpoment of the spred  "
   ]
  },
  {
   "cell_type": "code",
   "execution_count": null,
   "id": "1d9c0ffb-400f-4a8d-8f77-f13cfb8128dd",
   "metadata": {},
   "outputs": [],
   "source": []
  },
  {
   "cell_type": "code",
   "execution_count": null,
   "id": "11566f45-63de-4d8f-85e6-e20f31dcf348",
   "metadata": {},
   "outputs": [],
   "source": []
  },
  {
   "cell_type": "code",
   "execution_count": null,
   "id": "ec3e66ff-c5e1-4830-b63f-3a5bc77f8447",
   "metadata": {},
   "outputs": [],
   "source": []
  }
 ],
 "metadata": {
  "kernelspec": {
   "display_name": "Python 3 (ipykernel)",
   "language": "python",
   "name": "python3"
  },
  "language_info": {
   "codemirror_mode": {
    "name": "ipython",
    "version": 3
   },
   "file_extension": ".py",
   "mimetype": "text/x-python",
   "name": "python",
   "nbconvert_exporter": "python",
   "pygments_lexer": "ipython3",
   "version": "3.9.7"
  }
 },
 "nbformat": 4,
 "nbformat_minor": 5
}
